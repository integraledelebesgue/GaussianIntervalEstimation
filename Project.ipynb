{
 "cells": [
  {
   "cell_type": "code",
   "execution_count": 1,
   "id": "0d9bb7a9-3f93-4bda-bdd4-32f414d6b071",
   "metadata": {},
   "outputs": [],
   "source": [
    "library(ggplot2)\n",
    "library(tidyr)\n",
    "library(gridExtra)"
   ]
  },
  {
   "cell_type": "markdown",
   "id": "7000e1d6-61b1-4113-8033-8200a37d7d4b",
   "metadata": {},
   "source": [
    "Let us consider a random sample of n_sample numbers from normal distribution with mu = mean_actual and sigma-square = variance_actual parameters."
   ]
  },
  {
   "cell_type": "code",
   "execution_count": 2,
   "id": "2ec4075b-0ae7-4db3-ae51-d53777202261",
   "metadata": {},
   "outputs": [],
   "source": [
    "n_sample <- 10000\n",
    "n_trial <- 100\n",
    "\n",
    "mean_confidence <- 0.95\n",
    "variance_confidence <- 0.95"
   ]
  },
  {
   "cell_type": "code",
   "execution_count": 3,
   "id": "f82ad68e-d559-4984-a8c8-da27bf2ee37e",
   "metadata": {},
   "outputs": [],
   "source": [
    "mean_actual <- 5.0\n",
    "variance_actual <- 2.0\n",
    "poiss_lambda <- 3.0\n",
    "stddev_actual <- sqrt(variance_actual)"
   ]
  },
  {
   "cell_type": "markdown",
   "id": "bbc9db25-807b-4dd0-b806-c7ef53e86fbe",
   "metadata": {},
   "source": [
    "We would like to estimate those actual parameters in terms of interval estimation, basing on a sample."
   ]
  },
  {
   "cell_type": "markdown",
   "id": "a9c2a0a0-748e-413e-970d-7cd91ddfe59b",
   "metadata": {},
   "source": [
    "A sample mean interval estimator is given as a following function:"
   ]
  },
  {
   "cell_type": "code",
   "execution_count": 4,
   "id": "45b05fd1-a5a9-45ae-800a-b96eb7183694",
   "metadata": {},
   "outputs": [],
   "source": [
    "mean_interval_estimator <- function(sample, confidence_level = mean_confidence) {\n",
    "    mean_estimator <- mean(sample)\n",
    "    std_dev_estimator <- sd(sample)\n",
    "    \n",
    "    alpha <- 1 - confidence_level\n",
    "    \n",
    "    student_quantile <- qt(1 - alpha / 2, n_sample-1)\n",
    "    \n",
    "    mean_confidence <- c(\n",
    "        mean_estimator - student_quantile * std_dev_estimator / sqrt(n_sample - 1), \n",
    "        mean_estimator + student_quantile * std_dev_estimator / sqrt(n_sample - 1)\n",
    "    )\n",
    "    \n",
    "    return(mean_confidence)\n",
    "}"
   ]
  },
  {
   "cell_type": "markdown",
   "id": "ce6ec0fc-7063-479a-9f3a-d7190f2264e7",
   "metadata": {},
   "source": [
    "A sample variance interval estimator is given as a following function:"
   ]
  },
  {
   "cell_type": "code",
   "execution_count": 5,
   "id": "32efc845-0154-46ea-9c33-b1a968ebeb97",
   "metadata": {},
   "outputs": [],
   "source": [
    "variance_interval_estimator <- function(sample, confidence_level = variance_confidence) {\n",
    "    variance_estimator <- var(sample)\n",
    "    \n",
    "    alpha <- 1 - confidence_level\n",
    "    \n",
    "    chisq_left_quantile <- qchisq(1 - alpha / 2, n_sample - 1)\n",
    "    chisq_right_quantile <- qchisq(alpha / 2, n_sample - 1)\n",
    "    \n",
    "    variance_confidence <- c(\n",
    "        (n_sample-1) * variance_estimator / chisq_left_quantile,\n",
    "        (n_sample-1) * variance_estimator / chisq_right_quantile\n",
    "    )\n",
    "    \n",
    "    return(variance_confidence)\n",
    "}"
   ]
  },
  {
   "cell_type": "markdown",
   "id": "20fd9dd2-8746-4d48-bcbc-9a899a81886e",
   "metadata": {},
   "source": [
    "Let us generate an n_trials number of samples taken from distribution described above:"
   ]
  },
  {
   "cell_type": "code",
   "execution_count": 6,
   "id": "234fdb04-bc13-49db-90e8-9cb573d1933a",
   "metadata": {},
   "outputs": [],
   "source": [
    "generate_samples_normal <- function() {\n",
    "    data_frame <- data.frame(\n",
    "        matrix(\n",
    "            rnorm(n_sample * n_trial, mean_actual, stddev_actual), \n",
    "            nrow = n_sample\n",
    "        )\n",
    "    )\n",
    "    \n",
    "    return(data_frame)\n",
    "}"
   ]
  },
  {
   "cell_type": "code",
   "execution_count": 7,
   "id": "e1a9f7ea-413b-47a8-9b9b-e6f224386cff",
   "metadata": {},
   "outputs": [],
   "source": [
    "generate_samples_poiss <- function() {\n",
    "    data_frame <- data.frame(\n",
    "        matrix(\n",
    "            rpois(n_sample * n_trial, lambda = poiss_lambda),\n",
    "            nrow = n_sample\n",
    "        )\n",
    "    )\n",
    "    \n",
    "    return(data_frame)\n",
    "}"
   ]
  },
  {
   "cell_type": "code",
   "execution_count": 8,
   "id": "0111a9e2-e923-4ae4-82bd-c87c40a81e65",
   "metadata": {},
   "outputs": [],
   "source": [
    "data_frame <- generate_samples_poiss()"
   ]
  },
  {
   "cell_type": "markdown",
   "id": "a1c11016-563f-4187-b52c-c13aab8081a9",
   "metadata": {},
   "source": [
    "Process the data frame to plot the approximate probability densities for particular samples (skipped if there are more than 100 trials due to optimization issues): "
   ]
  },
  {
   "cell_type": "code",
   "execution_count": 9,
   "id": "799f527d-0488-4ce4-8a48-6ea875243b8a",
   "metadata": {},
   "outputs": [],
   "source": [
    "if(n_trial < 100) {\n",
    "    data_frame_tidy <- gather(data_frame, cols, value) \n",
    "    ggplot(data_frame_tidy, aes(x = value)) + geom_density(aes(color=cols))\n",
    "}"
   ]
  },
  {
   "cell_type": "markdown",
   "id": "ceddcfd8-49de-4010-bc90-c175039e1705",
   "metadata": {},
   "source": [
    "Compute the mean value point estimates and confidence intervals for each sample and gather results in the data frame:"
   ]
  },
  {
   "cell_type": "code",
   "execution_count": 10,
   "id": "07ffaf32-f154-4771-a910-b071b7a1e725",
   "metadata": {},
   "outputs": [],
   "source": [
    "mean_interval_df <- function(data_frame) {\n",
    "\n",
    "    mean_frame = data.frame(\n",
    "        trial = 1:n_trial,\n",
    "        mean = apply(data_frame, 2, mean),\n",
    "        mean_low = apply(data_frame, 2, mean_interval_estimator)[1,],\n",
    "        mean_high = apply(data_frame, 2, mean_interval_estimator)[2,]\n",
    "    )\n",
    "\n",
    "    return(mean_frame)\n",
    "}"
   ]
  },
  {
   "cell_type": "code",
   "execution_count": 11,
   "id": "d6647570",
   "metadata": {},
   "outputs": [],
   "source": [
    "mean_frame <- mean_interval_df(data_frame)"
   ]
  },
  {
   "cell_type": "markdown",
   "id": "aa97c801-1ab2-406b-a444-60c70ca25da6",
   "metadata": {},
   "source": [
    "Plot the estimates and compare it with actual mean value:"
   ]
  },
  {
   "cell_type": "code",
   "execution_count": 12,
   "id": "92503a24-5698-4fb1-92d8-44c0adddc82f",
   "metadata": {
    "scrolled": false
   },
   "outputs": [
    {
     "data": {
      "image/png": "[encoded data removed]",
      "text/plain": [
       "plot without title"
      ]
     },
     "metadata": {
      "image/png": {
       "height": 420,
       "width": 420
      }
     },
     "output_type": "display_data"
    }
   ],
   "source": [
    "mean_interval_plot <- function(mean_frame, line_intercept) { \n",
    "\n",
    "    mean_plot <- ggplot() +  \n",
    "    geom_pointrange(\n",
    "        data = mean_frame,\n",
    "        mapping = aes(\n",
    "            x = trial,\n",
    "            y = mean,\n",
    "            ymin = mean_low,\n",
    "            ymax = mean_high\n",
    "        )\n",
    "    ) + \n",
    "    geom_abline(\n",
    "        aes(\n",
    "            intercept = line_intercept, \n",
    "            slope = 0\n",
    "        )\n",
    "    )\n",
    "    \n",
    "    return(mean_plot)\n",
    "}\n",
    "\n",
    "mean_plot <- mean_interval_plot(mean_frame, poiss_lambda)\n",
    "\n",
    "mean_plot"
   ]
  },
  {
   "cell_type": "markdown",
   "id": "0c0e1d74-17ab-411e-a02a-0d1ab186583b",
   "metadata": {},
   "source": [
    "Compute the variance point estimates and confidence intervals for each sample and gather results in the data frame:"
   ]
  },
  {
   "cell_type": "code",
   "execution_count": 13,
   "id": "870f2efb-4470-455e-93c5-4666c9205fd4",
   "metadata": {},
   "outputs": [],
   "source": [
    "variance_interval_df <- function(data_frame) {\n",
    "\n",
    "    var_frame = data.frame(\n",
    "        trial = 1:n_trial,\n",
    "        variance = apply(data_frame, 2, var),\n",
    "        var_low = apply(data_frame, 2, variance_interval_estimator)[1,],\n",
    "        var_high = apply(data_frame, 2, variance_interval_estimator)[2,]\n",
    "    )\n",
    "\n",
    "    return(var_frame)\n",
    "}"
   ]
  },
  {
   "cell_type": "code",
   "execution_count": 14,
   "id": "19702d9a",
   "metadata": {},
   "outputs": [],
   "source": [
    "var_frame <- variance_interval_df(data_frame)"
   ]
  },
  {
   "cell_type": "markdown",
   "id": "51293632-be84-4f79-b190-7bedb33d9255",
   "metadata": {},
   "source": [
    "Plot the estimates and compare it with actual variance:"
   ]
  },
  {
   "cell_type": "code",
   "execution_count": 15,
   "id": "2df4ec9b-26c0-40f8-91ad-2d57c3f7ed89",
   "metadata": {
    "scrolled": false
   },
   "outputs": [
    {
     "data": {
      "image/png": "[encoded data removed]",
      "text/plain": [
       "plot without title"
      ]
     },
     "metadata": {
      "image/png": {
       "height": 420,
       "width": 420
      }
     },
     "output_type": "display_data"
    }
   ],
   "source": [
    "variance_interval_plot <- function(var_frame, line_intercept) {\n",
    "    var_plot <- ggplot() +  \n",
    "    geom_pointrange(\n",
    "        data = var_frame,\n",
    "        mapping = aes(\n",
    "            x = trial,\n",
    "            y = variance,\n",
    "            ymin = var_low,\n",
    "            ymax = var_high\n",
    "        )\n",
    "    ) + \n",
    "    geom_abline(\n",
    "        aes(\n",
    "            intercept = line_intercept,\n",
    "            slope = 0\n",
    "        )\n",
    "    )\n",
    "\n",
    "    return(var_plot)\n",
    "}\n",
    "\n",
    "var_plot <- variance_interval_plot(var_frame, poiss_lambda)\n",
    "\n",
    "var_plot"
   ]
  },
  {
   "cell_type": "code",
   "execution_count": 16,
   "id": "f137055c",
   "metadata": {},
   "outputs": [],
   "source": [
    "filename <- \"result\""
   ]
  },
  {
   "cell_type": "code",
   "execution_count": 17,
   "id": "83955974-55a2-43e1-aa46-4becc84ce60d",
   "metadata": {},
   "outputs": [
    {
     "name": "stderr",
     "output_type": "stream",
     "text": [
      "\u001b[1m\u001b[22mSaving 6.67 x 6.67 in image\n",
      "\u001b[1m\u001b[22mSaving 6.67 x 6.67 in image\n"
     ]
    }
   ],
   "source": [
    "plot_grob <- arrangeGrob(mean_plot, var_plot, nrow=2)\n",
    "ggsave(\n",
    "    file = paste(filename, \".pdf\"),\n",
    "    plot_grob\n",
    ")\n",
    "\n",
    "ggsave(\n",
    "    file = paste(filename, \".eps\"),\n",
    "    plot_grob\n",
    ")"
   ]
  },
  {
   "cell_type": "code",
   "execution_count": 21,
   "id": "5b3f51bc",
   "metadata": {},
   "outputs": [],
   "source": [
    "n_sample <- 10\n",
    "\n",
    "normal_small_df <- generate_samples_normal()\n",
    "normal_small_mean_df <- mean_interval_df(normal_small_df)\n",
    "normal_small_mean_plot <- mean_interval_plot(normal_small_mean_df, mean_actual)\n",
    "normal_small_var_df <- variance_interval_df(normal_small_df)\n",
    "normal_small_var_plot <- variance_interval_plot(normal_small_var_df, variance_actual)\n",
    "\n",
    "n_sample <- 10000\n",
    "\n",
    "normal_large_df <- generate_samples_normal()\n",
    "normal_large_mean_df <- mean_interval_df(normal_large_df)\n",
    "normal_large_mean_plot <- mean_interval_plot(normal_large_mean_df, mean_actual)\n",
    "normal_large_var_df <- variance_interval_df(normal_large_df)\n",
    "normal_large_var_plot <- variance_interval_plot(normal_large_var_df, variance_actual)\n",
    "\n",
    "poiss_large_df <- generate_samples_poiss()\n",
    "poiss_large_mean_df <- mean_interval_df(poiss_large_df)\n",
    "poiss_large_mean_plot <- mean_interval_plot(poiss_large_mean_df, poiss_lambda)\n",
    "poiss_large_var_df <- variance_interval_df(poiss_large_df)\n",
    "poiss_large_var_plot <- variance_interval_plot(poiss_large_var_df, poiss_lambda)\n",
    "\n",
    "plot_grob <- arrangeGrob(\n",
    "    normal_small_mean_plot, normal_large_mean_plot, poiss_large_mean_plot, \n",
    "    normal_small_var_plot, normal_large_var_plot, poiss_large_var_plot,\n",
    "    ncol = 3,\n",
    "    nrow = 2,\n",
    "    widths = c(3000, 3000, 3000),\n",
    "    heights = c(3000, 3000),\n",
    "    respect = TRUE\n",
    ")\n",
    "\n",
    "ggsave(\n",
    "    file = \"collective.pdf\",\n",
    "    plot_grob,\n",
    "    width = 20,\n",
    "    height = 14\n",
    ")\n",
    "\n",
    "ggsave(\n",
    "    file = \"collective.eps\",\n",
    "    plot_grob,\n",
    "    width = 20,\n",
    "    height = 14\n",
    ")"
   ]
  },
  {
   "cell_type": "code",
   "execution_count": 22,
   "id": "ca7c5dd0",
   "metadata": {},
   "outputs": [],
   "source": [
    "ggsave(\n",
    "    file = \"collective.png\",\n",
    "    plot_grob,\n",
    "    width = 20,\n",
    "    height = 14\n",
    ")"
   ]
  },
  {
   "cell_type": "code",
   "execution_count": null,
   "id": "e50dd19f",
   "metadata": {},
   "outputs": [],
   "source": []
  }
 ],
 "metadata": {
  "kernelspec": {
   "display_name": "R",
   "language": "R",
   "name": "ir"
  },
  "language_info": {
   "codemirror_mode": "r",
   "file_extension": ".r",
   "mimetype": "text/x-r-source",
   "name": "R",
   "pygments_lexer": "r",
   "version": "4.2.2"
  }
 },
 "nbformat": 4,
 "nbformat_minor": 5
}
